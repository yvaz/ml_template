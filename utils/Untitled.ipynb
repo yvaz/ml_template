{
 "cells": [
  {
   "cell_type": "code",
   "execution_count": 46,
   "id": "ffe8603e",
   "metadata": {},
   "outputs": [],
   "source": [
    "import date_utils as du\n",
    "import importlib"
   ]
  },
  {
   "cell_type": "code",
   "execution_count": 47,
   "id": "2ee5aee6",
   "metadata": {},
   "outputs": [
    {
     "data": {
      "text/plain": [
       "<module 'date_utils' from '/alloc/data/fury_ml-template/ml_template/utils/date_utils.py'>"
      ]
     },
     "execution_count": 47,
     "metadata": {},
     "output_type": "execute_result"
    }
   ],
   "source": [
    "importlib.reload(du)"
   ]
  },
  {
   "cell_type": "code",
   "execution_count": 25,
   "id": "72042c9c",
   "metadata": {},
   "outputs": [
    {
     "data": {
      "text/plain": [
       "'202202'"
      ]
     },
     "execution_count": 25,
     "metadata": {},
     "output_type": "execute_result"
    }
   ],
   "source": [
    "du.DateUtils.add('202201',1)"
   ]
  },
  {
   "cell_type": "code",
   "execution_count": 26,
   "id": "5f56fa85",
   "metadata": {},
   "outputs": [
    {
     "data": {
      "text/plain": [
       "'202301'"
      ]
     },
     "execution_count": 26,
     "metadata": {},
     "output_type": "execute_result"
    }
   ],
   "source": [
    "du.DateUtils.add('202212',1)"
   ]
  },
  {
   "cell_type": "code",
   "execution_count": 53,
   "id": "a5777367",
   "metadata": {},
   "outputs": [
    {
     "data": {
      "text/plain": [
       "'2023-01-05'"
      ]
     },
     "execution_count": 53,
     "metadata": {},
     "output_type": "execute_result"
    }
   ],
   "source": [
    "du.DateUtils.add('2022-12-01',5,recorr='week')"
   ]
  },
  {
   "cell_type": "code",
   "execution_count": null,
   "id": "69c53daa",
   "metadata": {},
   "outputs": [],
   "source": []
  }
 ],
 "metadata": {
  "kernelspec": {
   "display_name": "Python 3 (ipykernel)",
   "language": "python",
   "name": "python3"
  },
  "language_info": {
   "codemirror_mode": {
    "name": "ipython",
    "version": 3
   },
   "file_extension": ".py",
   "mimetype": "text/x-python",
   "name": "python",
   "nbconvert_exporter": "python",
   "pygments_lexer": "ipython3",
   "version": "3.9.0"
  }
 },
 "nbformat": 4,
 "nbformat_minor": 5
}
